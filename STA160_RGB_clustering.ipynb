{
 "cells": [
  {
   "cell_type": "code",
   "execution_count": 1,
   "id": "b69caa9a-8c23-481a-b66d-e151d176bb64",
   "metadata": {},
   "outputs": [],
   "source": [
    "import pandas as pd\n",
    "import numpy as np\n",
    "import matplotlib.pyplot as plt\n",
    "from PIL import Image\n",
    "import seaborn as sns\n",
    "from sklearn.metrics.pairwise import pairwise_distances\n",
    "from scipy.cluster.hierarchy import linkage, dendrogram, fcluster"
   ]
  },
  {
   "cell_type": "code",
   "execution_count": 16,
   "id": "a032f1e0-8278-4726-945f-023442217e96",
   "metadata": {},
   "outputs": [],
   "source": [
    "light_blue = Image.open('/Users/calvinatkins/Downloads/light_blue.jpeg')\n",
    "orange = Image.open('/Users/calvinatkins/Downloads/orange.jpeg')\n",
    "red = Image.open('/Users/calvinatkins/Downloads/red.jpeg')\n",
    "turquoise = Image.open('/Users/calvinatkins/Downloads/turquoise.jpeg')\n",
    "sage = Image.open('/Users/calvinatkins/Downloads/sage.jpeg')"
   ]
  },
  {
   "cell_type": "code",
   "execution_count": 25,
   "id": "f375cb48-1c25-4e14-8756-0ab671dc8ae3",
   "metadata": {},
   "outputs": [
    {
     "data": {
      "text/plain": [
       "855"
      ]
     },
     "execution_count": 25,
     "metadata": {},
     "output_type": "execute_result"
    }
   ],
   "source": [
    "# Orange as an example:\n",
    "image = red\n",
    "\n",
    "# Convert the image to RGB mode\n",
    "image = image.convert(\"RGB\")\n",
    "\n",
    "# Convert the image to a NumPy array\n",
    "image_data = np.array(image)"
   ]
  },
  {
   "cell_type": "code",
   "execution_count": 26,
   "id": "86dd28ca-ae49-4895-a808-a77b07c24498",
   "metadata": {},
   "outputs": [],
   "source": [
    "# Getting pixels\n",
    "pixels_test = list(image.getdata())"
   ]
  },
  {
   "cell_type": "code",
   "execution_count": 27,
   "id": "4708628b-f1ca-48e7-96b3-1016833cb0d3",
   "metadata": {},
   "outputs": [],
   "source": [
    "# ATTEMPTING TO REDUCE MEMORY REQUIREMENTS IN ORDER TO CLUSTER\n",
    "\n",
    "from sklearn.cluster import AgglomerativeClustering\n",
    "from sklearn.decomposition import PCA\n",
    "\n",
    "height, width, _ = image_data.shape\n",
    "pixels = np.reshape(image_data, (height * width, 3))\n",
    "\n",
    "# Dimensionality Reduction (PCA)\n",
    "n_components = 3  # Example number of components\n",
    "pca = PCA(n_components=n_components)\n",
    "pixels_reduced = pca.fit_transform(pixels)\n",
    "\n",
    "# sample pixels\n",
    "sample_size = 13000  # Example sample size\n",
    "sample_indices = np.random.choice(pixels_reduced.shape[0], size=sample_size, replace=False)\n",
    "sample_pixels = pixels_reduced[sample_indices]\n"
   ]
  },
  {
   "cell_type": "code",
   "execution_count": 28,
   "id": "e1bfe1d0-ac7d-40eb-8f7c-ab241ee48932",
   "metadata": {},
   "outputs": [
    {
     "name": "stderr",
     "output_type": "stream",
     "text": [
      "/var/folders/bh/s725mwjn6yv_jjc2dmb9c5th0000gn/T/ipykernel_23876/2485181002.py:6: ClusterWarning: scipy.cluster: The symmetric non-negative hollow observation matrix looks suspiciously like an uncondensed distance matrix\n",
      "  linkage_matrix = linkage(distances, method='complete')\n"
     ]
    },
    {
     "data": {
      "image/png": "[encoded data removed]",
      "text/plain": [
       "<Figure size 720x432 with 1 Axes>"
      ]
     },
     "metadata": {
      "needs_background": "light"
     },
     "output_type": "display_data"
    },
    {
     "ename": "NameError",
     "evalue": "name 'Z' is not defined",
     "output_type": "error",
     "traceback": [
      "\u001b[0;31m---------------------------------------------------------------------------\u001b[0m",
      "\u001b[0;31mNameError\u001b[0m                                 Traceback (most recent call last)",
      "\u001b[0;32m/var/folders/bh/s725mwjn6yv_jjc2dmb9c5th0000gn/T/ipykernel_23876/2485181002.py\u001b[0m in \u001b[0;36m<module>\u001b[0;34m\u001b[0m\n\u001b[1;32m     15\u001b[0m \u001b[0;31m# Retrieve cluster assignments\u001b[0m\u001b[0;34m\u001b[0m\u001b[0;34m\u001b[0m\u001b[0m\n\u001b[1;32m     16\u001b[0m \u001b[0mthreshold\u001b[0m \u001b[0;34m=\u001b[0m \u001b[0;36m2.5\u001b[0m  \u001b[0;31m# Adjust the threshold based on your desired number of clusters\u001b[0m\u001b[0;34m\u001b[0m\u001b[0;34m\u001b[0m\u001b[0m\n\u001b[0;32m---> 17\u001b[0;31m \u001b[0mcluster_assignments\u001b[0m \u001b[0;34m=\u001b[0m \u001b[0mfcluster\u001b[0m\u001b[0;34m(\u001b[0m\u001b[0mZ\u001b[0m\u001b[0;34m,\u001b[0m \u001b[0mthreshold\u001b[0m\u001b[0;34m,\u001b[0m \u001b[0mcriterion\u001b[0m\u001b[0;34m=\u001b[0m\u001b[0;34m'distance'\u001b[0m\u001b[0;34m)\u001b[0m\u001b[0;34m\u001b[0m\u001b[0;34m\u001b[0m\u001b[0m\n\u001b[0m\u001b[1;32m     18\u001b[0m \u001b[0;34m\u001b[0m\u001b[0m\n\u001b[1;32m     19\u001b[0m \u001b[0;31m# Print the cluster assignments\u001b[0m\u001b[0;34m\u001b[0m\u001b[0;34m\u001b[0m\u001b[0m\n",
      "\u001b[0;31mNameError\u001b[0m: name 'Z' is not defined"
     ]
    }
   ],
   "source": [
    "# CLUSTERING TO FIND DENDROGRAM\n",
    "pixels = sample_pixels\n",
    "\n",
    "distances = pairwise_distances(pixels, metric='euclidean')\n",
    "\n",
    "linkage_matrix = linkage(distances, method='complete')\n",
    "\n",
    "plt.figure(figsize=(10, 6))\n",
    "dendrogram(linkage_matrix, truncate_mode='level', p=6)  # Example truncation at level 5\n",
    "plt.xlabel('Pixels')\n",
    "plt.ylabel('Distance')\n",
    "plt.title('Dendrogram of Clustered Pixels - Red')\n",
    "plt.show()"
   ]
  },
  {
   "cell_type": "code",
   "execution_count": null,
   "id": "d2891daa-3623-4952-8ee9-c8c02b66e754",
   "metadata": {},
   "outputs": [],
   "source": []
  }
 ],
 "metadata": {
  "kernelspec": {
   "display_name": "Python 3 (ipykernel)",
   "language": "python",
   "name": "python3"
  },
  "language_info": {
   "codemirror_mode": {
    "name": "ipython",
    "version": 3
   },
   "file_extension": ".py",
   "mimetype": "text/x-python",
   "name": "python",
   "nbconvert_exporter": "python",
   "pygments_lexer": "ipython3",
   "version": "3.9.7"
  }
 },
 "nbformat": 4,
 "nbformat_minor": 5
}
