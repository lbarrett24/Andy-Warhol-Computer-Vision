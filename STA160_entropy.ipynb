{
 "cells": [
  {
   "cell_type": "code",
   "execution_count": 26,
   "id": "d1c3e12b-83f0-43ca-b2b3-bcc0480396af",
   "metadata": {},
   "outputs": [],
   "source": [
    "import pandas as pd\n",
    "import numpy as np\n",
    "import matplotlib.pyplot as plt\n",
    "from PIL import Image\n",
    "from math import log2\n",
    "import seaborn as sns"
   ]
  },
  {
   "cell_type": "code",
   "execution_count": 28,
   "id": "1663a357-9d75-4634-b7a0-bbfda99763f6",
   "metadata": {},
   "outputs": [],
   "source": [
    "light_blue = Image.open('/Users/calvinatkins/Downloads/light_blue.jpeg')\n",
    "orange = Image.open('/Users/calvinatkins/Downloads/orange.jpeg')\n",
    "red = Image.open('/Users/calvinatkins/Downloads/red.jpeg')\n",
    "turquoise = Image.open('/Users/calvinatkins/Downloads/turquoise.jpeg')\n",
    "sage = Image.open('/Users/calvinatkins/Downloads/sage.jpeg')"
   ]
  },
  {
   "cell_type": "code",
   "execution_count": 29,
   "id": "0b95eb9f-7379-46b4-955d-6e338a31e2f4",
   "metadata": {},
   "outputs": [],
   "source": [
    "# Testing to see if I can get similar values by other histograms I created\n",
    "# can also test entropy of certain channels: red channel for ex\n",
    "# grayscale is done to convert the image to a single channel for simplification"
   ]
  },
  {
   "cell_type": "code",
   "execution_count": 30,
   "id": "56e8ca2d-c55b-4f87-ba38-3e53c82ef239",
   "metadata": {},
   "outputs": [
    {
     "name": "stdout",
     "output_type": "stream",
     "text": [
      "Orange\n",
      "Red Channel Entropy: 6.757419445124871\n",
      "Green Channel Entropy: 6.916514807184205\n",
      "Blue Channel Entropy: 6.650764129471522\n",
      "Light Blue\n",
      "Red Channel Entropy: 6.242466794361341\n",
      "Green Channel Entropy: 6.048691287353764\n",
      "Blue Channel Entropy: 6.352955993905189\n",
      "Red\n",
      "Red Channel Entropy: 6.265066472505103\n",
      "Green Channel Entropy: 7.162446484540307\n",
      "Blue Channel Entropy: 7.003592040802523\n",
      "Turquoise\n",
      "Red Channel Entropy: 7.251090418687386\n",
      "Green Channel Entropy: 7.276450720184872\n",
      "Blue Channel Entropy: 7.416112921177779\n",
      "Green\n",
      "Red Channel Entropy: 7.024015974480801\n",
      "Green Channel Entropy: 6.566294475401054\n",
      "Blue Channel Entropy: 6.75972953385067\n"
     ]
    }
   ],
   "source": [
    "def calculate_entropy(channel):\n",
    "    histogram = np.histogram(channel, bins=256, range=(0, 255))[0]\n",
    "    hist_normalized = histogram / float(np.sum(histogram))\n",
    "    entropy = -np.sum(hist_normalized * np.log2(hist_normalized + np.finfo(float).eps))\n",
    "    return entropy\n",
    "\n",
    "def calculate_channel_entropies(image):\n",
    "    # Split image into RGB channels\n",
    "    red_channel, green_channel, blue_channel = image.split()\n",
    "\n",
    "    red_entropy = calculate_entropy(red_channel)\n",
    "    green_entropy = calculate_entropy(green_channel)\n",
    "    blue_entropy = calculate_entropy(blue_channel)\n",
    "\n",
    "    print(\"Red Channel Entropy:\", red_entropy)\n",
    "    print(\"Green Channel Entropy:\", green_entropy)\n",
    "    print(\"Blue Channel Entropy:\", blue_entropy)\n",
    "\n",
    "print(\"Orange\")\n",
    "calculate_channel_entropies(orange)\n",
    "print(\"Light Blue\")\n",
    "calculate_channel_entropies(light_blue)\n",
    "print(\"Red\")\n",
    "calculate_channel_entropies(red)\n",
    "print(\"Turquoise\")\n",
    "calculate_channel_entropies(turquoise)\n",
    "print(\"Green\")\n",
    "calculate_channel_entropies(green)"
   ]
  },
  {
   "cell_type": "code",
   "execution_count": 41,
   "id": "f6f80386-145c-4b16-90dc-5eeb2b7b2cb6",
   "metadata": {},
   "outputs": [
    {
     "data": {
      "image/png": "[encoded data removed]",
      "text/plain": [
       "<Figure size 432x288 with 2 Axes>"
      ]
     },
     "metadata": {
      "needs_background": "light"
     },
     "output_type": "display_data"
    }
   ],
   "source": [
    "def calculate_joint_entropy(channel1, channel2):\n",
    "    histogram_2d, _, _ = np.histogram2d(channel1.flatten(), channel2.flatten(), bins=(256, 256), range=[[0, 256], [0, 256]])\n",
    "    hist_normalized = histogram_2d / float(np.sum(histogram_2d))\n",
    "    entropy = -np.sum(hist_normalized * np.log2(hist_normalized + np.finfo(float).eps))\n",
    "    return entropy\n",
    "\n",
    "def calculate_conditional_entropy(channel1, channel2):\n",
    "    joint_entropy = calculate_joint_entropy(channel1, channel2)\n",
    "    entropy_channel2 = calculate_entropy(channel2)\n",
    "    conditional_entropy = joint_entropy - entropy_channel2\n",
    "    return conditional_entropy\n",
    "\n",
    "# example\n",
    "image = turquoise\n",
    "\n",
    "red_channel, green_channel, blue_channel = image.split()\n",
    "\n",
    "# convert channels to numpy arrays\n",
    "red_array = np.array(red_channel)\n",
    "green_array = np.array(green_channel)\n",
    "blue_array = np.array(blue_channel)\n",
    "\n",
    "conditional_entropy_matrix = np.zeros((3, 3))\n",
    "conditional_entropy_matrix[0, 0] = calculate_conditional_entropy(red_array, red_array)\n",
    "conditional_entropy_matrix[0, 1] = calculate_conditional_entropy(red_array, green_array)\n",
    "conditional_entropy_matrix[0, 2] = calculate_conditional_entropy(red_array, blue_array)\n",
    "conditional_entropy_matrix[1, 0] = calculate_conditional_entropy(green_array, red_array)\n",
    "conditional_entropy_matrix[1, 1] = calculate_conditional_entropy(green_array, green_array)\n",
    "conditional_entropy_matrix[1, 2] = calculate_conditional_entropy(green_array, blue_array)\n",
    "conditional_entropy_matrix[2, 0] = calculate_conditional_entropy(blue_array, red_array)\n",
    "conditional_entropy_matrix[2, 1] = calculate_conditional_entropy(blue_array, green_array)\n",
    "conditional_entropy_matrix[2, 2] = calculate_conditional_entropy(blue_array, blue_array)\n",
    "\n",
    "# function to normalize scale 0-1\n",
    "def min_max_scale(matrix):\n",
    "    min_val = np.min(matrix)\n",
    "    max_val = np.max(matrix)\n",
    "    scaled_matrix = (matrix - min_val) / (max_val - min_val)\n",
    "    return scaled_matrix\n",
    "\n",
    "conditional_entropy_matrix = min_max_scale(conditional_entropy_matrix)\n",
    "\n",
    "sns.heatmap(conditional_entropy_matrix, annot=True, cmap='coolwarm',\n",
    "            xticklabels=['Red', 'Green', 'Blue'], yticklabels=['Red', 'Green', 'Blue'])\n",
    "plt.title('Standardized Conditional Entropy - Turquoise')\n",
    "plt.xlabel('Source Channel')\n",
    "plt.ylabel('Conditioning Channel')\n",
    "plt.show()"
   ]
  },
  {
   "cell_type": "code",
   "execution_count": null,
   "id": "5f2ebf9b-02ac-4232-a7c5-6381f60cb759",
   "metadata": {},
   "outputs": [],
   "source": []
  }
 ],
 "metadata": {
  "kernelspec": {
   "display_name": "Python 3 (ipykernel)",
   "language": "python",
   "name": "python3"
  },
  "language_info": {
   "codemirror_mode": {
    "name": "ipython",
    "version": 3
   },
   "file_extension": ".py",
   "mimetype": "text/x-python",
   "name": "python",
   "nbconvert_exporter": "python",
   "pygments_lexer": "ipython3",
   "version": "3.9.7"
  }
 },
 "nbformat": 4,
 "nbformat_minor": 5
}
