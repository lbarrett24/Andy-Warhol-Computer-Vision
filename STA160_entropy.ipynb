{
 "cells": [
  {
   "cell_type": "code",
   "execution_count": 17,
   "id": "d1c3e12b-83f0-43ca-b2b3-bcc0480396af",
   "metadata": {},
   "outputs": [],
   "source": [
    "import pandas as pd\n",
    "import numpy as np\n",
    "import matplotlib.pyplot as plt\n",
    "from PIL import Image\n",
    "from math import log2"
   ]
  },
  {
   "cell_type": "code",
   "execution_count": 18,
   "id": "1663a357-9d75-4634-b7a0-bbfda99763f6",
   "metadata": {},
   "outputs": [],
   "source": [
    "light_blue = Image.open('/Users/calvinatkins/Downloads/light_blue.jpeg')\n",
    "orange = Image.open('/Users/calvinatkins/Downloads/orange.jpeg')\n",
    "red = Image.open('/Users/calvinatkins/Downloads/red.jpeg')\n",
    "turquoise = Image.open('/Users/calvinatkins/Downloads/turquoise.jpeg')\n",
    "green = Image.open('/Users/calvinatkins/Downloads/green.jpeg')\n",
    "test = Image.open('/Users/calvinatkins/Downloads/delete_later.webp')"
   ]
  },
  {
   "cell_type": "code",
   "execution_count": null,
   "id": "d6c614d7-f315-4bb3-b59d-a5daf5d0fe01",
   "metadata": {},
   "outputs": [],
   "source": []
  },
  {
   "cell_type": "code",
   "execution_count": 19,
   "id": "e2798e5e-284d-418f-8f78-c97132aaf3a5",
   "metadata": {},
   "outputs": [
    {
     "name": "stdout",
     "output_type": "stream",
     "text": [
      "6.691576783046408\n",
      "6.019709967973702\n",
      "6.901819638579092\n",
      "6.281817885853981\n",
      "6.4738401361884215\n"
     ]
    }
   ],
   "source": [
    "def calculate_entropy(image):\n",
    "    # Convert image to grayscale\n",
    "    gray_image = image.convert('L')\n",
    "    \n",
    "    # Compute histogram\n",
    "    histogram = gray_image.histogram()\n",
    "    \n",
    "    # Normalize histogram\n",
    "    hist_normalized = np.array(histogram) / float(np.sum(histogram))\n",
    "    \n",
    "    # Calculate entropy\n",
    "    entropy = -np.sum(hist_normalized * np.log2(hist_normalized + np.finfo(float).eps))\n",
    "    \n",
    "    return entropy\n",
    "print(calculate_entropy(orange))\n",
    "print(calculate_entropy(light_blue))\n",
    "print(calculate_entropy(red))\n",
    "print(calculate_entropy(turquoise))\n",
    "print(calculate_entropy(green))\n",
    "\n",
    "# if want value from 0-1 divide by max entropy value for RGB (8)"
   ]
  },
  {
   "cell_type": "code",
   "execution_count": 20,
   "id": "0b95eb9f-7379-46b4-955d-6e338a31e2f4",
   "metadata": {},
   "outputs": [],
   "source": [
    "# Testing to see if I can get similar values by other histograms I created\n",
    "# can also test entropy of certain channels: red channel for ex\n",
    "# grayscale is done to convert the image to a single channel for simplification"
   ]
  },
  {
   "cell_type": "code",
   "execution_count": 21,
   "id": "095a798f-e0db-4a5a-821d-1305362f3fbf",
   "metadata": {},
   "outputs": [],
   "source": [
    "def calculate_entropy(channel):\n",
    "    # Compute histogram\n",
    "    histogram = channel.histogram()\n",
    "    \n",
    "    # Normalize histogram\n",
    "    hist_normalized = np.array(histogram) / float(np.sum(histogram))\n",
    "    \n",
    "    # Calculate entropy\n",
    "    entropy = -np.sum(hist_normalized * np.log2(hist_normalized + np.finfo(float).eps))\n",
    "    \n",
    "    return entropy"
   ]
  },
  {
   "cell_type": "code",
   "execution_count": 24,
   "id": "56e8ca2d-c55b-4f87-ba38-3e53c82ef239",
   "metadata": {},
   "outputs": [
    {
     "name": "stdout",
     "output_type": "stream",
     "text": [
      "Orange\n",
      "Red Channel Entropy: 6.757419445124871\n",
      "Green Channel Entropy: 6.916514807184205\n",
      "Blue Channel Entropy: 6.650764129471522\n",
      "Light Blue\n",
      "Red Channel Entropy: 6.242466794361341\n",
      "Green Channel Entropy: 6.048691287353764\n",
      "Blue Channel Entropy: 6.352955993905189\n",
      "Red\n",
      "Red Channel Entropy: 6.265066472505103\n",
      "Green Channel Entropy: 7.162446484540307\n",
      "Blue Channel Entropy: 7.003592040802523\n",
      "Turquoise\n",
      "Red Channel Entropy: 6.9913544736995625\n",
      "Green Channel Entropy: 6.782083637914582\n",
      "Blue Channel Entropy: 6.778804986799511\n",
      "Green\n",
      "Red Channel Entropy: 7.024015974480801\n",
      "Green Channel Entropy: 6.566294475401054\n",
      "Blue Channel Entropy: 6.75972953385067\n"
     ]
    }
   ],
   "source": [
    "def calculate_channel_entropies(image):\n",
    "    # Split image into RGB channels\n",
    "    red_channel, green_channel, blue_channel = image.split()\n",
    "\n",
    "    # Calculate entropy for each channel\n",
    "    red_entropy = calculate_entropy(red_channel)\n",
    "    green_entropy = calculate_entropy(green_channel)\n",
    "    blue_entropy = calculate_entropy(blue_channel)\n",
    "\n",
    "    print(\"Red Channel Entropy:\", red_entropy)\n",
    "    print(\"Green Channel Entropy:\", green_entropy)\n",
    "    print(\"Blue Channel Entropy:\", blue_entropy)\n",
    "\n",
    "print(\"Orange\")\n",
    "calculate_channel_entropies(orange)\n",
    "print(\"Light Blue\")\n",
    "calculate_channel_entropies(light_blue)\n",
    "print(\"Red\")\n",
    "calculate_channel_entropies(red)\n",
    "print(\"Turquoise\")\n",
    "calculate_channel_entropies(turquoise)\n",
    "print(\"Green\")\n",
    "calculate_channel_entropies(green)"
   ]
  },
  {
   "cell_type": "code",
   "execution_count": null,
   "id": "c9333eec-ad5f-46a2-a197-d2bc111878da",
   "metadata": {},
   "outputs": [],
   "source": []
  }
 ],
 "metadata": {
  "kernelspec": {
   "display_name": "Python 3 (ipykernel)",
   "language": "python",
   "name": "python3"
  },
  "language_info": {
   "codemirror_mode": {
    "name": "ipython",
    "version": 3
   },
   "file_extension": ".py",
   "mimetype": "text/x-python",
   "name": "python",
   "nbconvert_exporter": "python",
   "pygments_lexer": "ipython3",
   "version": "3.9.7"
  }
 },
 "nbformat": 4,
 "nbformat_minor": 5
}
